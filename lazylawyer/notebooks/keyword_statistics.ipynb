{
 "cells": [
  {
   "cell_type": "code",
   "execution_count": null,
   "metadata": {},
   "outputs": [],
   "source": [
    "import os\n",
    "import sys\n",
    "os.chdir('../../')\n",
    "sys.path.insert(0, '../../')"
   ]
  },
  {
   "cell_type": "code",
   "execution_count": null,
   "metadata": {},
   "outputs": [],
   "source": [
    "from lazylawyer.database import table_docs"
   ]
  },
  {
   "cell_type": "code",
   "execution_count": null,
   "metadata": {},
   "outputs": [],
   "source": [
    "docs = table_docs.get_docs_with_names(['Judgment'])"
   ]
  },
  {
   "cell_type": "code",
   "execution_count": null,
   "metadata": {},
   "outputs": [],
   "source": [
    "# extract keywords\n",
    "keywords = [list() if doc['keywords'] is None else doc['keywords'].split('-') for doc in docs]\n",
    "keywords = [[kw.strip().lower() for kw in kws] for kws in keywords]"
   ]
  },
  {
   "cell_type": "code",
   "execution_count": null,
   "metadata": {},
   "outputs": [],
   "source": [
    "import pandas as pd\n",
    "from itertools import chain\n",
    "\n",
    "# count number of judgments for all keywords\n",
    "keyword_voc = pd.Series(list(chain.from_iterable(keywords)))\n",
    "keyword_voc = keyword_voc.value_counts()"
   ]
  },
  {
   "cell_type": "code",
   "execution_count": null,
   "metadata": {},
   "outputs": [],
   "source": [
    "keyword_voc[:10].plot(kind='bar')"
   ]
  },
  {
   "cell_type": "code",
   "execution_count": null,
   "metadata": {},
   "outputs": [],
   "source": [
    "from lazylawyer.database import table_doc_contents\n",
    "from lazylawyer.nlp.curia_preprocessor import preprocess\n",
    "import numpy as np"
   ]
  },
  {
   "cell_type": "code",
   "execution_count": null,
   "metadata": {},
   "outputs": [],
   "source": [
    "matches = [re.search(r'(and f)?(F)?(acts).*([\\s\\S]*)(\\nLegal framework)', content) for content in doc_contents]\n",
    "matches = [1 if m else 0 for m in matches]"
   ]
  },
  {
   "cell_type": "code",
   "execution_count": null,
   "metadata": {},
   "outputs": [],
   "source": [
    "# unsupervised classification\n",
    "import re\n",
    "doc_contents = [table_doc_contents.get_doc_content(doc) for doc in docs]\n",
    "matches_facts = [re.search(r'(and f)?(F)?(acts)', content) for content in doc_contents]\n",
    "matches_facts = [1 if m else 0 for m in matches_facts]\n",
    "\n",
    "matches_legal = [re.search(r'(Legal background)', content) for content in doc_contents]\n",
    "matches_legal = [1 if m else 0 for m in matches_legal]\n",
    "for mk in zip(matches_facts, matches_legal, keywords):\n",
    "    print(mk)"
   ]
  },
  {
   "cell_type": "code",
   "execution_count": null,
   "metadata": {},
   "outputs": [],
   "source": [
    "doc_contents = [preprocess(table_doc_contents.get_doc_content(doc)) for doc in docs]\n",
    "doc_contents[0]"
   ]
  },
  {
   "cell_type": "code",
   "execution_count": null,
   "metadata": {},
   "outputs": [],
   "source": [
    "doc_lengths = np.asarray([len(doc_contents[i]) for i in range(len(doc_contents))])\n",
    "sentences = list(chain.from_iterable(doc_contents))\n",
    "sentence_lengths = np.asarray([len(sentences[i]) for i in range(len(sentences))])\n",
    "print('Mean number of sentences: {0}'.format(np.mean(doc_lengths)))\n",
    "print('Mean number of words in sentence: {0}'.format(np.mean(sentence_lengths)))"
   ]
  },
  {
   "cell_type": "code",
   "execution_count": null,
   "metadata": {},
   "outputs": [],
   "source": []
  }
 ],
 "metadata": {
  "kernelspec": {
   "display_name": "lazylawyer",
   "language": "python",
   "name": "lazylawyer"
  },
  "language_info": {
   "codemirror_mode": {
    "name": "ipython",
    "version": 3
   },
   "file_extension": ".py",
   "mimetype": "text/x-python",
   "name": "python",
   "nbconvert_exporter": "python",
   "pygments_lexer": "ipython3",
   "version": "3.6.5"
  }
 },
 "nbformat": 4,
 "nbformat_minor": 2
}
